{
 "cells": [
  {
   "cell_type": "code",
   "execution_count": 1,
   "metadata": {},
   "outputs": [
    {
     "name": "stdout",
     "output_type": "stream",
     "text": [
      "[[ 0 16]\n",
      " [ 2  0]\n",
      " [ 6  8]]\n"
     ]
    }
   ],
   "source": [
    "# perkalian matriks array\n",
    "\n",
    "import numpy as np\n",
    "\n",
    "A = np.array([[0,8],[1,2],[6,4]])\n",
    "B = np.array([[4,2],[2,0],[1,2]])\n",
    "\n",
    "perkalian = A * B\n",
    "print(perkalian)"
   ]
  },
  {
   "cell_type": "code",
   "execution_count": 3,
   "metadata": {},
   "outputs": [
    {
     "name": "stdout",
     "output_type": "stream",
     "text": [
      "[[-4  6]\n",
      " [-1  2]\n",
      " [ 5  2]]\n"
     ]
    }
   ],
   "source": [
    "# pengurangan matriks array\n",
    "\n",
    "import numpy as np\n",
    "\n",
    "A = np.array([[0,8],[1,2],[6,4]])\n",
    "B = np.array([[4,2],[2,0],[1,2]])\n",
    "\n",
    "pengurangan = A - B\n",
    "print(pengurangan)"
   ]
  },
  {
   "cell_type": "code",
   "execution_count": 4,
   "metadata": {},
   "outputs": [
    {
     "name": "stdout",
     "output_type": "stream",
     "text": [
      "[[4 2 1]\n",
      " [2 0 2]]\n"
     ]
    }
   ],
   "source": [
    "# transpose matriks array\n",
    "\n",
    "import numpy as np \n",
    "A = np.array([[4,2],[2,0],[1,2]])\n",
    "\n",
    "transpose_A = np.transpose(A)\n",
    "print(transpose_A)"
   ]
  },
  {
   "cell_type": "code",
   "execution_count": 28,
   "metadata": {},
   "outputs": [
    {
     "name": "stdout",
     "output_type": "stream",
     "text": [
      "\n",
      "invers matriks A:\n",
      "invers dari matriks A: [[ 0.   0.5]\n",
      " [ 0.5 -1. ]]\n"
     ]
    }
   ],
   "source": [
    "# invers matriks array\n",
    "\n",
    "import numpy as np\n",
    "\n",
    "A = np.array([[4,2],[2,0]])\n",
    "\n",
    "invers_A = np.linalg.inv(A)\n",
    "print(\"\\ninvers matriks A:\")\n",
    "print(\"invers dari matriks A:\", invers_A)"
   ]
  },
  {
   "cell_type": "code",
   "execution_count": 29,
   "metadata": {},
   "outputs": [
    {
     "name": "stdout",
     "output_type": "stream",
     "text": [
      "determinan dari matriks A: -4.0\n"
     ]
    }
   ],
   "source": [
    "# determinan matriks array\n",
    "\n",
    "import numpy as np\n",
    "A = np.array([[4,2],[2,0]])\n",
    "\n",
    "determinant_A = np.linalg.det(A)\n",
    "print(\"determinan dari matriks A:\", determinant_A)"
   ]
  }
 ],
 "metadata": {
  "kernelspec": {
   "display_name": "Python 3",
   "language": "python",
   "name": "python3"
  },
  "language_info": {
   "codemirror_mode": {
    "name": "ipython",
    "version": 3
   },
   "file_extension": ".py",
   "mimetype": "text/x-python",
   "name": "python",
   "nbconvert_exporter": "python",
   "pygments_lexer": "ipython3",
   "version": "3.12.2"
  }
 },
 "nbformat": 4,
 "nbformat_minor": 2
}
